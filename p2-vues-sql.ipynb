{
 "cells": [
  {
   "cell_type": "markdown",
   "metadata": {},
   "source": [
    "# P2. Les vues SQL"
   ]
  },
  {
   "cell_type": "markdown",
   "metadata": {},
   "source": [
    "## Définition d'une vue SQL  \n",
    "\n",
    "Une vue n'est rien de plus qu'une instruction SQLite qui est stockée dans la base de données avec un nom associé. Il s'agit en fait d'une composition d'une table sous la forme d'une requête SQLite prédéfinie.\n",
    "\n",
    "Une vue peut contenir toutes les lignes d'une table ou des lignes sélectionnées d'une ou plusieurs tables. Une vue peut être créée à partir d'une ou plusieurs tables qui dépendent de la requête SQLite écrite pour créer une vue."
   ]
  },
  {
   "cell_type": "markdown",
   "metadata": {},
   "source": [
    "## Code utilitaire"
   ]
  },
  {
   "cell_type": "code",
   "execution_count": 1,
   "metadata": {},
   "outputs": [],
   "source": [
    "import os\n",
    "import sqlite3\n",
    "import pandas as pd   "
   ]
  },
  {
   "cell_type": "code",
   "execution_count": 2,
   "metadata": {},
   "outputs": [],
   "source": [
    "from pathlib import Path"
   ]
  },
  {
   "cell_type": "code",
   "execution_count": 3,
   "metadata": {},
   "outputs": [],
   "source": [
    "# Ouvre connection vers SQLite db\n",
    "chemin_bdd = Path('db') / 'chinook.db'\n",
    "conn = sqlite3.connect(chemin_bdd)"
   ]
  },
  {
   "cell_type": "code",
   "execution_count": 4,
   "metadata": {},
   "outputs": [],
   "source": [
    "# Fonction permettant d'exécuter un requête SQL sur une BDD définie par sa connexion conn\n",
    "def executer_requete(requete_sql, conn):\n",
    "    try:\n",
    "        cursor = conn.cursor()\n",
    "        cursor.execute(requete_sql)\n",
    "        conn.commit()\n",
    "    except sqlite3.Error as e:\n",
    "        print(\"Erreur lors de l'execution de la requête\")\n",
    "        print(e)\n",
    "        return\n",
    "    cursor.close()\n"
   ]
  },
  {
   "cell_type": "markdown",
   "metadata": {},
   "source": [
    "----------"
   ]
  },
  {
   "cell_type": "markdown",
   "metadata": {},
   "source": [
    "## Example de vue SQL: v_albums"
   ]
  },
  {
   "cell_type": "markdown",
   "metadata": {},
   "source": [
    "La requête suivante permet d'obtenir une liste (simplifiée) des albums / artistes correspondants:  "
   ]
  },
  {
   "cell_type": "code",
   "execution_count": 5,
   "metadata": {},
   "outputs": [
    {
     "data": {
      "text/html": [
       "<div>\n",
       "<style scoped>\n",
       "    .dataframe tbody tr th:only-of-type {\n",
       "        vertical-align: middle;\n",
       "    }\n",
       "\n",
       "    .dataframe tbody tr th {\n",
       "        vertical-align: top;\n",
       "    }\n",
       "\n",
       "    .dataframe thead th {\n",
       "        text-align: right;\n",
       "    }\n",
       "</style>\n",
       "<table border=\"1\" class=\"dataframe\">\n",
       "  <thead>\n",
       "    <tr style=\"text-align: right;\">\n",
       "      <th></th>\n",
       "      <th>AlbumId</th>\n",
       "      <th>Title</th>\n",
       "      <th>Artist</th>\n",
       "    </tr>\n",
       "  </thead>\n",
       "  <tbody>\n",
       "    <tr>\n",
       "      <th>0</th>\n",
       "      <td>1</td>\n",
       "      <td>For Those About To Rock We Salute You</td>\n",
       "      <td>AC/DC</td>\n",
       "    </tr>\n",
       "    <tr>\n",
       "      <th>1</th>\n",
       "      <td>4</td>\n",
       "      <td>Let There Be Rock</td>\n",
       "      <td>AC/DC</td>\n",
       "    </tr>\n",
       "    <tr>\n",
       "      <th>2</th>\n",
       "      <td>296</td>\n",
       "      <td>A Copland Celebration, Vol. I</td>\n",
       "      <td>Aaron Copland &amp; London Symphony Orchestra</td>\n",
       "    </tr>\n",
       "    <tr>\n",
       "      <th>3</th>\n",
       "      <td>267</td>\n",
       "      <td>Worlds</td>\n",
       "      <td>Aaron Goldberg</td>\n",
       "    </tr>\n",
       "    <tr>\n",
       "      <th>4</th>\n",
       "      <td>280</td>\n",
       "      <td>The World of Classical Favourites</td>\n",
       "      <td>Academy of St. Martin in the Fields &amp; Sir Nevi...</td>\n",
       "    </tr>\n",
       "  </tbody>\n",
       "</table>\n",
       "</div>"
      ],
      "text/plain": [
       "   AlbumId                                  Title  \\\n",
       "0        1  For Those About To Rock We Salute You   \n",
       "1        4                      Let There Be Rock   \n",
       "2      296          A Copland Celebration, Vol. I   \n",
       "3      267                                 Worlds   \n",
       "4      280      The World of Classical Favourites   \n",
       "\n",
       "                                              Artist  \n",
       "0                                              AC/DC  \n",
       "1                                              AC/DC  \n",
       "2          Aaron Copland & London Symphony Orchestra  \n",
       "3                                     Aaron Goldberg  \n",
       "4  Academy of St. Martin in the Fields & Sir Nevi...  "
      ]
     },
     "execution_count": 5,
     "metadata": {},
     "output_type": "execute_result"
    }
   ],
   "source": [
    "# Requete sur les tables albums & artists\n",
    "requete = \"\"\"\n",
    "    SELECT AlbumId,\n",
    "           Title,\n",
    "           a.Name AS Artist\n",
    "    FROM albums\n",
    "    JOIN artists a on albums.ArtistId = a.ArtistId\n",
    "    ORDER BY Artist;\n",
    "\"\"\"\n",
    "# utilisation de la fonction de pandas \"read_sql_quert\"\n",
    "# elle permet d'afficher et de formater graphiquement les résultats\n",
    "albums = pd.read_sql_query(requete, conn)\n",
    "albums.head(5)"
   ]
  },
  {
   "cell_type": "code",
   "execution_count": 6,
   "metadata": {},
   "outputs": [
    {
     "data": {
      "text/plain": [
       "347"
      ]
     },
     "execution_count": 6,
     "metadata": {},
     "output_type": "execute_result"
    }
   ],
   "source": [
    "len(albums)"
   ]
  },
  {
   "cell_type": "markdown",
   "metadata": {},
   "source": [
    "Le code ci-dessous permet de créer une vue correspondant à la requête ci-dessous :    \n",
    "Référence vue sous SQLite : https://www.sqlite.org/lang_createview.html"
   ]
  },
  {
   "cell_type": "code",
   "execution_count": 7,
   "metadata": {},
   "outputs": [],
   "source": [
    "# creation vue albums avec artistes\n",
    "creation_vue_albums = \"\"\"\n",
    "    CREATE VIEW v_albums (\n",
    "        AlbumId,\n",
    "        Title,\n",
    "        Artist)\n",
    "    AS\n",
    "        SELECT AlbumId,\n",
    "               Title,\n",
    "               a.Name AS Artist\n",
    "        FROM albums\n",
    "        JOIN artists a on albums.ArtistId = a.ArtistId\n",
    "        ORDER BY Artist, Title;\n",
    "\"\"\"\n",
    "\n",
    "executer_requete(creation_vue_albums, conn)"
   ]
  },
  {
   "cell_type": "markdown",
   "metadata": {},
   "source": [
    "Une fois la vue créé, on peut la réutiliser dans des requêtes SQL comme une table:  "
   ]
  },
  {
   "cell_type": "code",
   "execution_count": 8,
   "metadata": {},
   "outputs": [
    {
     "data": {
      "text/html": [
       "<div>\n",
       "<style scoped>\n",
       "    .dataframe tbody tr th:only-of-type {\n",
       "        vertical-align: middle;\n",
       "    }\n",
       "\n",
       "    .dataframe tbody tr th {\n",
       "        vertical-align: top;\n",
       "    }\n",
       "\n",
       "    .dataframe thead th {\n",
       "        text-align: right;\n",
       "    }\n",
       "</style>\n",
       "<table border=\"1\" class=\"dataframe\">\n",
       "  <thead>\n",
       "    <tr style=\"text-align: right;\">\n",
       "      <th></th>\n",
       "      <th>AlbumId</th>\n",
       "      <th>Title</th>\n",
       "      <th>Artist</th>\n",
       "    </tr>\n",
       "  </thead>\n",
       "  <tbody>\n",
       "    <tr>\n",
       "      <th>0</th>\n",
       "      <td>1</td>\n",
       "      <td>For Those About To Rock We Salute You</td>\n",
       "      <td>AC/DC</td>\n",
       "    </tr>\n",
       "    <tr>\n",
       "      <th>1</th>\n",
       "      <td>4</td>\n",
       "      <td>Let There Be Rock</td>\n",
       "      <td>AC/DC</td>\n",
       "    </tr>\n",
       "    <tr>\n",
       "      <th>2</th>\n",
       "      <td>296</td>\n",
       "      <td>A Copland Celebration, Vol. I</td>\n",
       "      <td>Aaron Copland &amp; London Symphony Orchestra</td>\n",
       "    </tr>\n",
       "    <tr>\n",
       "      <th>3</th>\n",
       "      <td>267</td>\n",
       "      <td>Worlds</td>\n",
       "      <td>Aaron Goldberg</td>\n",
       "    </tr>\n",
       "    <tr>\n",
       "      <th>4</th>\n",
       "      <td>280</td>\n",
       "      <td>The World of Classical Favourites</td>\n",
       "      <td>Academy of St. Martin in the Fields &amp; Sir Nevi...</td>\n",
       "    </tr>\n",
       "  </tbody>\n",
       "</table>\n",
       "</div>"
      ],
      "text/plain": [
       "   AlbumId                                  Title  \\\n",
       "0        1  For Those About To Rock We Salute You   \n",
       "1        4                      Let There Be Rock   \n",
       "2      296          A Copland Celebration, Vol. I   \n",
       "3      267                                 Worlds   \n",
       "4      280      The World of Classical Favourites   \n",
       "\n",
       "                                              Artist  \n",
       "0                                              AC/DC  \n",
       "1                                              AC/DC  \n",
       "2          Aaron Copland & London Symphony Orchestra  \n",
       "3                                     Aaron Goldberg  \n",
       "4  Academy of St. Martin in the Fields & Sir Nevi...  "
      ]
     },
     "execution_count": 8,
     "metadata": {},
     "output_type": "execute_result"
    }
   ],
   "source": [
    "# Utilisation de la vue v_albums\n",
    "albums = pd.read_sql_query(\"SELECT * FROM v_albums LIMIT 10;\", conn)\n",
    "albums.head(5)"
   ]
  },
  {
   "cell_type": "code",
   "execution_count": 9,
   "metadata": {},
   "outputs": [
    {
     "data": {
      "text/plain": [
       "10"
      ]
     },
     "execution_count": 9,
     "metadata": {},
     "output_type": "execute_result"
    }
   ],
   "source": [
    "len(albums)"
   ]
  },
  {
   "cell_type": "code",
   "execution_count": 10,
   "metadata": {},
   "outputs": [
    {
     "data": {
      "text/html": [
       "<div>\n",
       "<style scoped>\n",
       "    .dataframe tbody tr th:only-of-type {\n",
       "        vertical-align: middle;\n",
       "    }\n",
       "\n",
       "    .dataframe tbody tr th {\n",
       "        vertical-align: top;\n",
       "    }\n",
       "\n",
       "    .dataframe thead th {\n",
       "        text-align: right;\n",
       "    }\n",
       "</style>\n",
       "<table border=\"1\" class=\"dataframe\">\n",
       "  <thead>\n",
       "    <tr style=\"text-align: right;\">\n",
       "      <th></th>\n",
       "      <th>AlbumId</th>\n",
       "      <th>Title</th>\n",
       "      <th>Artist</th>\n",
       "    </tr>\n",
       "  </thead>\n",
       "  <tbody>\n",
       "    <tr>\n",
       "      <th>0</th>\n",
       "      <td>232</td>\n",
       "      <td>Achtung Baby</td>\n",
       "      <td>U2</td>\n",
       "    </tr>\n",
       "    <tr>\n",
       "      <th>1</th>\n",
       "      <td>233</td>\n",
       "      <td>All That You Can't Leave Behind</td>\n",
       "      <td>U2</td>\n",
       "    </tr>\n",
       "    <tr>\n",
       "      <th>2</th>\n",
       "      <td>234</td>\n",
       "      <td>B-Sides 1980-1990</td>\n",
       "      <td>U2</td>\n",
       "    </tr>\n",
       "    <tr>\n",
       "      <th>3</th>\n",
       "      <td>235</td>\n",
       "      <td>How To Dismantle An Atomic Bomb</td>\n",
       "      <td>U2</td>\n",
       "    </tr>\n",
       "    <tr>\n",
       "      <th>4</th>\n",
       "      <td>255</td>\n",
       "      <td>Instant Karma: The Amnesty International Campa...</td>\n",
       "      <td>U2</td>\n",
       "    </tr>\n",
       "    <tr>\n",
       "      <th>5</th>\n",
       "      <td>236</td>\n",
       "      <td>Pop</td>\n",
       "      <td>U2</td>\n",
       "    </tr>\n",
       "    <tr>\n",
       "      <th>6</th>\n",
       "      <td>237</td>\n",
       "      <td>Rattle And Hum</td>\n",
       "      <td>U2</td>\n",
       "    </tr>\n",
       "    <tr>\n",
       "      <th>7</th>\n",
       "      <td>238</td>\n",
       "      <td>The Best Of 1980-1990</td>\n",
       "      <td>U2</td>\n",
       "    </tr>\n",
       "    <tr>\n",
       "      <th>8</th>\n",
       "      <td>239</td>\n",
       "      <td>War</td>\n",
       "      <td>U2</td>\n",
       "    </tr>\n",
       "    <tr>\n",
       "      <th>9</th>\n",
       "      <td>240</td>\n",
       "      <td>Zooropa</td>\n",
       "      <td>U2</td>\n",
       "    </tr>\n",
       "  </tbody>\n",
       "</table>\n",
       "</div>"
      ],
      "text/plain": [
       "   AlbumId                                              Title Artist\n",
       "0      232                                       Achtung Baby     U2\n",
       "1      233                    All That You Can't Leave Behind     U2\n",
       "2      234                                  B-Sides 1980-1990     U2\n",
       "3      235                    How To Dismantle An Atomic Bomb     U2\n",
       "4      255  Instant Karma: The Amnesty International Campa...     U2\n",
       "5      236                                                Pop     U2\n",
       "6      237                                     Rattle And Hum     U2\n",
       "7      238                              The Best Of 1980-1990     U2\n",
       "8      239                                                War     U2\n",
       "9      240                                            Zooropa     U2"
      ]
     },
     "execution_count": 10,
     "metadata": {},
     "output_type": "execute_result"
    }
   ],
   "source": [
    "# Utilisation de la vue v_albums avec une clause WHERE\n",
    "albums = pd.read_sql_query(\"SELECT * FROM v_albums WHERE Artist = 'U2';\", conn)\n",
    "albums"
   ]
  },
  {
   "cell_type": "code",
   "execution_count": 11,
   "metadata": {},
   "outputs": [
    {
     "data": {
      "text/plain": [
       "10"
      ]
     },
     "execution_count": 11,
     "metadata": {},
     "output_type": "execute_result"
    }
   ],
   "source": [
    "len(albums)"
   ]
  },
  {
   "cell_type": "code",
   "execution_count": 12,
   "metadata": {},
   "outputs": [
    {
     "data": {
      "text/html": [
       "<div>\n",
       "<style scoped>\n",
       "    .dataframe tbody tr th:only-of-type {\n",
       "        vertical-align: middle;\n",
       "    }\n",
       "\n",
       "    .dataframe tbody tr th {\n",
       "        vertical-align: top;\n",
       "    }\n",
       "\n",
       "    .dataframe thead th {\n",
       "        text-align: right;\n",
       "    }\n",
       "</style>\n",
       "<table border=\"1\" class=\"dataframe\">\n",
       "  <thead>\n",
       "    <tr style=\"text-align: right;\">\n",
       "      <th></th>\n",
       "      <th>AlbumId</th>\n",
       "      <th>Title</th>\n",
       "      <th>Artist</th>\n",
       "      <th>Tracks</th>\n",
       "    </tr>\n",
       "  </thead>\n",
       "  <tbody>\n",
       "    <tr>\n",
       "      <th>0</th>\n",
       "      <td>1</td>\n",
       "      <td>For Those About To Rock We Salute You</td>\n",
       "      <td>AC/DC</td>\n",
       "      <td>10</td>\n",
       "    </tr>\n",
       "    <tr>\n",
       "      <th>1</th>\n",
       "      <td>4</td>\n",
       "      <td>Let There Be Rock</td>\n",
       "      <td>AC/DC</td>\n",
       "      <td>8</td>\n",
       "    </tr>\n",
       "    <tr>\n",
       "      <th>2</th>\n",
       "      <td>296</td>\n",
       "      <td>A Copland Celebration, Vol. I</td>\n",
       "      <td>Aaron Copland &amp; London Symphony Orchestra</td>\n",
       "      <td>1</td>\n",
       "    </tr>\n",
       "    <tr>\n",
       "      <th>3</th>\n",
       "      <td>267</td>\n",
       "      <td>Worlds</td>\n",
       "      <td>Aaron Goldberg</td>\n",
       "      <td>1</td>\n",
       "    </tr>\n",
       "    <tr>\n",
       "      <th>4</th>\n",
       "      <td>280</td>\n",
       "      <td>The World of Classical Favourites</td>\n",
       "      <td>Academy of St. Martin in the Fields &amp; Sir Nevi...</td>\n",
       "      <td>2</td>\n",
       "    </tr>\n",
       "  </tbody>\n",
       "</table>\n",
       "</div>"
      ],
      "text/plain": [
       "   AlbumId                                  Title  \\\n",
       "0        1  For Those About To Rock We Salute You   \n",
       "1        4                      Let There Be Rock   \n",
       "2      296          A Copland Celebration, Vol. I   \n",
       "3      267                                 Worlds   \n",
       "4      280      The World of Classical Favourites   \n",
       "\n",
       "                                              Artist  Tracks  \n",
       "0                                              AC/DC      10  \n",
       "1                                              AC/DC       8  \n",
       "2          Aaron Copland & London Symphony Orchestra       1  \n",
       "3                                     Aaron Goldberg       1  \n",
       "4  Academy of St. Martin in the Fields & Sir Nevi...       2  "
      ]
     },
     "execution_count": 12,
     "metadata": {},
     "output_type": "execute_result"
    }
   ],
   "source": [
    "# Utilisation de la vue v_albums avec une autre jointure\n",
    "requete = \"\"\"\n",
    "    SELECT a.AlbumId,\n",
    "           a.Title,\n",
    "           a.Artist,\n",
    "           count(t.TrackId) as Tracks\n",
    "    FROM v_albums a\n",
    "    JOIN tracks t ON a.AlbumId = t.AlbumId\n",
    "    GROUP BY 1, 2, 3\n",
    "    ORDER BY 3, 2;\n",
    "\"\"\"\n",
    "albums = pd.read_sql_query(requete, conn)\n",
    "albums.head()"
   ]
  },
  {
   "cell_type": "code",
   "execution_count": 13,
   "metadata": {},
   "outputs": [
    {
     "data": {
      "text/plain": [
       "347"
      ]
     },
     "execution_count": 13,
     "metadata": {},
     "output_type": "execute_result"
    }
   ],
   "source": [
    "len(albums)"
   ]
  },
  {
   "cell_type": "code",
   "execution_count": 14,
   "metadata": {},
   "outputs": [],
   "source": [
    "# Effacer une vue\n",
    "executer_requete(\"DROP VIEW IF EXISTS v_albums;\", conn)"
   ]
  },
  {
   "cell_type": "markdown",
   "metadata": {},
   "source": [
    "### Question: Avantages & Inconvénients des vues SQL"
   ]
  },
  {
   "cell_type": "markdown",
   "metadata": {},
   "source": [
    "Quelles sont les avantages et inconvénients des vues SQL ?  \n",
    "*A compléter*"
   ]
  },
  {
   "cell_type": "markdown",
   "metadata": {},
   "source": [
    "---"
   ]
  },
  {
   "cell_type": "markdown",
   "metadata": {},
   "source": [
    "## Exercices de création / mise en oeuvre de vues"
   ]
  },
  {
   "cell_type": "markdown",
   "metadata": {},
   "source": [
    "### Vue 1: caractéristiques complètes des Albums  \n",
    "A partir de l'exemple de vue ci-dessus, créer et exploiter une nouvelle vue v_albums reprenant pour chaque album:  \n",
    "- AlbumId\n",
    "- Title\n",
    "- Artist\n",
    "- nb de pistes\n",
    "- Durée totale de l'album (en minutes)\n",
    "- Prix de l'album"
   ]
  },
  {
   "cell_type": "code",
   "execution_count": 15,
   "metadata": {},
   "outputs": [],
   "source": [
    "# création de la vue\n",
    "creation_vue_albums = \"\"\"\n",
    "CREATE VIEW info_albums AS \n",
    "SELECT a.AlbumId , a.Title AS 'Titre Album',  \n",
    "\t\ta2.Name,\n",
    "\t\tCOUNT(t.TrackId) AS 'Nombre de piste', SUM(t.Milliseconds)/1000/60 AS 'Durée',\n",
    "\t\tSUM(t.UnitPrice) AS 'Prix' \n",
    "FROM albums a\n",
    "LEFT JOIN artists a2 ON a.ArtistId = a2.ArtistId \n",
    "JOIN tracks t ON a.AlbumId = t.AlbumId \n",
    "GROUP BY a.AlbumId\"\"\" \n",
    "\n",
    "# appel de la fonction avec ma vue et ma variable conn en paramètre\n",
    "executer_requete(creation_vue_albums, conn)"
   ]
  },
  {
   "cell_type": "code",
   "execution_count": 16,
   "metadata": {},
   "outputs": [
    {
     "data": {
      "text/html": [
       "<div>\n",
       "<style scoped>\n",
       "    .dataframe tbody tr th:only-of-type {\n",
       "        vertical-align: middle;\n",
       "    }\n",
       "\n",
       "    .dataframe tbody tr th {\n",
       "        vertical-align: top;\n",
       "    }\n",
       "\n",
       "    .dataframe thead th {\n",
       "        text-align: right;\n",
       "    }\n",
       "</style>\n",
       "<table border=\"1\" class=\"dataframe\">\n",
       "  <thead>\n",
       "    <tr style=\"text-align: right;\">\n",
       "      <th></th>\n",
       "      <th>AlbumId</th>\n",
       "      <th>Titre Album</th>\n",
       "      <th>Name</th>\n",
       "      <th>Nombre de piste</th>\n",
       "      <th>Durée</th>\n",
       "      <th>Prix</th>\n",
       "    </tr>\n",
       "  </thead>\n",
       "  <tbody>\n",
       "    <tr>\n",
       "      <th>0</th>\n",
       "      <td>1</td>\n",
       "      <td>For Those About To Rock We Salute You</td>\n",
       "      <td>AC/DC</td>\n",
       "      <td>10</td>\n",
       "      <td>40</td>\n",
       "      <td>9.90</td>\n",
       "    </tr>\n",
       "    <tr>\n",
       "      <th>1</th>\n",
       "      <td>2</td>\n",
       "      <td>Balls to the Wall</td>\n",
       "      <td>Accept</td>\n",
       "      <td>1</td>\n",
       "      <td>5</td>\n",
       "      <td>0.99</td>\n",
       "    </tr>\n",
       "    <tr>\n",
       "      <th>2</th>\n",
       "      <td>3</td>\n",
       "      <td>Restless and Wild</td>\n",
       "      <td>Accept</td>\n",
       "      <td>3</td>\n",
       "      <td>14</td>\n",
       "      <td>2.97</td>\n",
       "    </tr>\n",
       "    <tr>\n",
       "      <th>3</th>\n",
       "      <td>4</td>\n",
       "      <td>Let There Be Rock</td>\n",
       "      <td>AC/DC</td>\n",
       "      <td>8</td>\n",
       "      <td>40</td>\n",
       "      <td>7.92</td>\n",
       "    </tr>\n",
       "    <tr>\n",
       "      <th>4</th>\n",
       "      <td>5</td>\n",
       "      <td>Big Ones</td>\n",
       "      <td>Aerosmith</td>\n",
       "      <td>15</td>\n",
       "      <td>73</td>\n",
       "      <td>14.85</td>\n",
       "    </tr>\n",
       "  </tbody>\n",
       "</table>\n",
       "</div>"
      ],
      "text/plain": [
       "   AlbumId                            Titre Album       Name  Nombre de piste  \\\n",
       "0        1  For Those About To Rock We Salute You      AC/DC               10   \n",
       "1        2                      Balls to the Wall     Accept                1   \n",
       "2        3                      Restless and Wild     Accept                3   \n",
       "3        4                      Let There Be Rock      AC/DC                8   \n",
       "4        5                               Big Ones  Aerosmith               15   \n",
       "\n",
       "   Durée   Prix  \n",
       "0     40   9.90  \n",
       "1      5   0.99  \n",
       "2     14   2.97  \n",
       "3     40   7.92  \n",
       "4     73  14.85  "
      ]
     },
     "execution_count": 16,
     "metadata": {},
     "output_type": "execute_result"
    }
   ],
   "source": [
    "albums = pd.read_sql_query(\"SELECT * FROM info_albums LIMIT 10;\", conn)\n",
    "albums.head(5)"
   ]
  },
  {
   "cell_type": "code",
   "execution_count": 17,
   "metadata": {},
   "outputs": [
    {
     "data": {
      "text/plain": [
       "10"
      ]
     },
     "execution_count": 17,
     "metadata": {},
     "output_type": "execute_result"
    }
   ],
   "source": [
    "len(albums)"
   ]
  },
  {
   "cell_type": "code",
   "execution_count": 18,
   "metadata": {},
   "outputs": [
    {
     "data": {
      "text/html": [
       "<div>\n",
       "<style scoped>\n",
       "    .dataframe tbody tr th:only-of-type {\n",
       "        vertical-align: middle;\n",
       "    }\n",
       "\n",
       "    .dataframe tbody tr th {\n",
       "        vertical-align: top;\n",
       "    }\n",
       "\n",
       "    .dataframe thead th {\n",
       "        text-align: right;\n",
       "    }\n",
       "</style>\n",
       "<table border=\"1\" class=\"dataframe\">\n",
       "  <thead>\n",
       "    <tr style=\"text-align: right;\">\n",
       "      <th></th>\n",
       "      <th>AlbumId</th>\n",
       "      <th>Titre Album</th>\n",
       "      <th>Name</th>\n",
       "      <th>Nombre de piste</th>\n",
       "      <th>Durée</th>\n",
       "      <th>Prix</th>\n",
       "    </tr>\n",
       "  </thead>\n",
       "  <tbody>\n",
       "    <tr>\n",
       "      <th>0</th>\n",
       "      <td>1</td>\n",
       "      <td>For Those About To Rock We Salute You</td>\n",
       "      <td>AC/DC</td>\n",
       "      <td>10</td>\n",
       "      <td>40</td>\n",
       "      <td>9.90</td>\n",
       "    </tr>\n",
       "    <tr>\n",
       "      <th>1</th>\n",
       "      <td>4</td>\n",
       "      <td>Let There Be Rock</td>\n",
       "      <td>AC/DC</td>\n",
       "      <td>8</td>\n",
       "      <td>40</td>\n",
       "      <td>7.92</td>\n",
       "    </tr>\n",
       "  </tbody>\n",
       "</table>\n",
       "</div>"
      ],
      "text/plain": [
       "   AlbumId                            Titre Album   Name  Nombre de piste  \\\n",
       "0        1  For Those About To Rock We Salute You  AC/DC               10   \n",
       "1        4                      Let There Be Rock  AC/DC                8   \n",
       "\n",
       "   Durée  Prix  \n",
       "0     40  9.90  \n",
       "1     40  7.92  "
      ]
     },
     "execution_count": 18,
     "metadata": {},
     "output_type": "execute_result"
    }
   ],
   "source": [
    "# ex d'utilsation de la vue\n",
    "# la vue permet de créer une nouvelle table\n",
    "requete = \"\"\"SELECT *\n",
    "from info_albums \n",
    "where Name = 'AC/DC'\"\"\"\n",
    "\n",
    "albums = pd.read_sql_query(requete, conn)\n",
    "albums.head(5)"
   ]
  },
  {
   "cell_type": "code",
   "execution_count": 19,
   "metadata": {},
   "outputs": [
    {
     "data": {
      "text/plain": [
       "2"
      ]
     },
     "execution_count": 19,
     "metadata": {},
     "output_type": "execute_result"
    }
   ],
   "source": [
    "len(albums)"
   ]
  },
  {
   "cell_type": "code",
   "execution_count": 20,
   "metadata": {},
   "outputs": [],
   "source": [
    "# Effacer une vue\n",
    "executer_requete(\"DROP VIEW IF EXISTS info_albums;\", conn)"
   ]
  },
  {
   "cell_type": "markdown",
   "metadata": {},
   "source": [
    "### Vue 2: caractéristiques détaillées des pistes\n",
    "Créer et exploiter une nouvelle vue v_tracks reprenant pour chaque piste:  \n",
    "- TrackId\n",
    "- Name\n",
    "- Genre\n",
    "- Album\n",
    "- Artist\n",
    "- Composer\n",
    "- Temps (en seconde)\n",
    "- MediaType"
   ]
  },
  {
   "cell_type": "code",
   "execution_count": 21,
   "metadata": {},
   "outputs": [],
   "source": [
    "creation_vue_pistes = \"\"\"CREATE VIEW info_pistes AS \n",
    "SELECT t.TrackId , t.Name AS 'Piste', g.Name AS 'Genre', a2.Title AS 'ALBUM', t.Composer AS 'Compositeur',\n",
    "\t\ta3.Name AS 'Artiste', t.Milliseconds/1000 AS 'Durée en secondes', mt.Name AS 'Type'\n",
    "FROM  tracks t\n",
    "INNER JOIN genres g ON t.GenreId = g.GenreId\n",
    "INNER JOIN media_types mt ON t.MediaTypeId = mt.MediaTypeId \n",
    "INNER JOIN albums a2 ON t.AlbumId = a2.AlbumId \n",
    "INNER JOIN artists a3 ON a2.ArtistId = a3.ArtistId \"\"\"\n",
    "\n",
    "executer_requete(creation_vue_pistes, conn)"
   ]
  },
  {
   "cell_type": "code",
   "execution_count": 22,
   "metadata": {},
   "outputs": [
    {
     "data": {
      "text/html": [
       "<div>\n",
       "<style scoped>\n",
       "    .dataframe tbody tr th:only-of-type {\n",
       "        vertical-align: middle;\n",
       "    }\n",
       "\n",
       "    .dataframe tbody tr th {\n",
       "        vertical-align: top;\n",
       "    }\n",
       "\n",
       "    .dataframe thead th {\n",
       "        text-align: right;\n",
       "    }\n",
       "</style>\n",
       "<table border=\"1\" class=\"dataframe\">\n",
       "  <thead>\n",
       "    <tr style=\"text-align: right;\">\n",
       "      <th></th>\n",
       "      <th>TrackId</th>\n",
       "      <th>Piste</th>\n",
       "      <th>Genre</th>\n",
       "      <th>ALBUM</th>\n",
       "      <th>Compositeur</th>\n",
       "      <th>Artiste</th>\n",
       "      <th>Durée en secondes</th>\n",
       "      <th>Type</th>\n",
       "    </tr>\n",
       "  </thead>\n",
       "  <tbody>\n",
       "    <tr>\n",
       "      <th>0</th>\n",
       "      <td>1</td>\n",
       "      <td>For Those About To Rock (We Salute You)</td>\n",
       "      <td>Rock</td>\n",
       "      <td>For Those About To Rock We Salute You</td>\n",
       "      <td>Angus Young, Malcolm Young, Brian Johnson</td>\n",
       "      <td>AC/DC</td>\n",
       "      <td>343</td>\n",
       "      <td>MPEG audio file</td>\n",
       "    </tr>\n",
       "    <tr>\n",
       "      <th>1</th>\n",
       "      <td>6</td>\n",
       "      <td>Put The Finger On You</td>\n",
       "      <td>Rock</td>\n",
       "      <td>For Those About To Rock We Salute You</td>\n",
       "      <td>Angus Young, Malcolm Young, Brian Johnson</td>\n",
       "      <td>AC/DC</td>\n",
       "      <td>205</td>\n",
       "      <td>MPEG audio file</td>\n",
       "    </tr>\n",
       "    <tr>\n",
       "      <th>2</th>\n",
       "      <td>7</td>\n",
       "      <td>Let's Get It Up</td>\n",
       "      <td>Rock</td>\n",
       "      <td>For Those About To Rock We Salute You</td>\n",
       "      <td>Angus Young, Malcolm Young, Brian Johnson</td>\n",
       "      <td>AC/DC</td>\n",
       "      <td>233</td>\n",
       "      <td>MPEG audio file</td>\n",
       "    </tr>\n",
       "    <tr>\n",
       "      <th>3</th>\n",
       "      <td>8</td>\n",
       "      <td>Inject The Venom</td>\n",
       "      <td>Rock</td>\n",
       "      <td>For Those About To Rock We Salute You</td>\n",
       "      <td>Angus Young, Malcolm Young, Brian Johnson</td>\n",
       "      <td>AC/DC</td>\n",
       "      <td>210</td>\n",
       "      <td>MPEG audio file</td>\n",
       "    </tr>\n",
       "    <tr>\n",
       "      <th>4</th>\n",
       "      <td>9</td>\n",
       "      <td>Snowballed</td>\n",
       "      <td>Rock</td>\n",
       "      <td>For Those About To Rock We Salute You</td>\n",
       "      <td>Angus Young, Malcolm Young, Brian Johnson</td>\n",
       "      <td>AC/DC</td>\n",
       "      <td>203</td>\n",
       "      <td>MPEG audio file</td>\n",
       "    </tr>\n",
       "  </tbody>\n",
       "</table>\n",
       "</div>"
      ],
      "text/plain": [
       "   TrackId                                    Piste Genre  \\\n",
       "0        1  For Those About To Rock (We Salute You)  Rock   \n",
       "1        6                    Put The Finger On You  Rock   \n",
       "2        7                          Let's Get It Up  Rock   \n",
       "3        8                         Inject The Venom  Rock   \n",
       "4        9                               Snowballed  Rock   \n",
       "\n",
       "                                   ALBUM  \\\n",
       "0  For Those About To Rock We Salute You   \n",
       "1  For Those About To Rock We Salute You   \n",
       "2  For Those About To Rock We Salute You   \n",
       "3  For Those About To Rock We Salute You   \n",
       "4  For Those About To Rock We Salute You   \n",
       "\n",
       "                                 Compositeur Artiste  Durée en secondes  \\\n",
       "0  Angus Young, Malcolm Young, Brian Johnson   AC/DC                343   \n",
       "1  Angus Young, Malcolm Young, Brian Johnson   AC/DC                205   \n",
       "2  Angus Young, Malcolm Young, Brian Johnson   AC/DC                233   \n",
       "3  Angus Young, Malcolm Young, Brian Johnson   AC/DC                210   \n",
       "4  Angus Young, Malcolm Young, Brian Johnson   AC/DC                203   \n",
       "\n",
       "              Type  \n",
       "0  MPEG audio file  \n",
       "1  MPEG audio file  \n",
       "2  MPEG audio file  \n",
       "3  MPEG audio file  \n",
       "4  MPEG audio file  "
      ]
     },
     "execution_count": 22,
     "metadata": {},
     "output_type": "execute_result"
    }
   ],
   "source": [
    "pistes = pd.read_sql_query(\"\"\"select *\n",
    "from info_pistes\"\"\", conn)\n",
    "pistes.head(5)"
   ]
  },
  {
   "cell_type": "code",
   "execution_count": 23,
   "metadata": {},
   "outputs": [
    {
     "data": {
      "text/plain": [
       "3503"
      ]
     },
     "execution_count": 23,
     "metadata": {},
     "output_type": "execute_result"
    }
   ],
   "source": [
    "len(pistes)"
   ]
  },
  {
   "cell_type": "code",
   "execution_count": 24,
   "metadata": {},
   "outputs": [
    {
     "data": {
      "text/html": [
       "<div>\n",
       "<style scoped>\n",
       "    .dataframe tbody tr th:only-of-type {\n",
       "        vertical-align: middle;\n",
       "    }\n",
       "\n",
       "    .dataframe tbody tr th {\n",
       "        vertical-align: top;\n",
       "    }\n",
       "\n",
       "    .dataframe thead th {\n",
       "        text-align: right;\n",
       "    }\n",
       "</style>\n",
       "<table border=\"1\" class=\"dataframe\">\n",
       "  <thead>\n",
       "    <tr style=\"text-align: right;\">\n",
       "      <th></th>\n",
       "      <th>TrackId</th>\n",
       "      <th>Piste</th>\n",
       "      <th>Genre</th>\n",
       "      <th>ALBUM</th>\n",
       "      <th>Compositeur</th>\n",
       "      <th>Artiste</th>\n",
       "      <th>Durée en secondes</th>\n",
       "      <th>Type</th>\n",
       "    </tr>\n",
       "  </thead>\n",
       "  <tbody>\n",
       "    <tr>\n",
       "      <th>0</th>\n",
       "      <td>1</td>\n",
       "      <td>For Those About To Rock (We Salute You)</td>\n",
       "      <td>Rock</td>\n",
       "      <td>For Those About To Rock We Salute You</td>\n",
       "      <td>Angus Young, Malcolm Young, Brian Johnson</td>\n",
       "      <td>AC/DC</td>\n",
       "      <td>343</td>\n",
       "      <td>MPEG audio file</td>\n",
       "    </tr>\n",
       "    <tr>\n",
       "      <th>1</th>\n",
       "      <td>6</td>\n",
       "      <td>Put The Finger On You</td>\n",
       "      <td>Rock</td>\n",
       "      <td>For Those About To Rock We Salute You</td>\n",
       "      <td>Angus Young, Malcolm Young, Brian Johnson</td>\n",
       "      <td>AC/DC</td>\n",
       "      <td>205</td>\n",
       "      <td>MPEG audio file</td>\n",
       "    </tr>\n",
       "    <tr>\n",
       "      <th>2</th>\n",
       "      <td>7</td>\n",
       "      <td>Let's Get It Up</td>\n",
       "      <td>Rock</td>\n",
       "      <td>For Those About To Rock We Salute You</td>\n",
       "      <td>Angus Young, Malcolm Young, Brian Johnson</td>\n",
       "      <td>AC/DC</td>\n",
       "      <td>233</td>\n",
       "      <td>MPEG audio file</td>\n",
       "    </tr>\n",
       "    <tr>\n",
       "      <th>3</th>\n",
       "      <td>8</td>\n",
       "      <td>Inject The Venom</td>\n",
       "      <td>Rock</td>\n",
       "      <td>For Those About To Rock We Salute You</td>\n",
       "      <td>Angus Young, Malcolm Young, Brian Johnson</td>\n",
       "      <td>AC/DC</td>\n",
       "      <td>210</td>\n",
       "      <td>MPEG audio file</td>\n",
       "    </tr>\n",
       "    <tr>\n",
       "      <th>4</th>\n",
       "      <td>9</td>\n",
       "      <td>Snowballed</td>\n",
       "      <td>Rock</td>\n",
       "      <td>For Those About To Rock We Salute You</td>\n",
       "      <td>Angus Young, Malcolm Young, Brian Johnson</td>\n",
       "      <td>AC/DC</td>\n",
       "      <td>203</td>\n",
       "      <td>MPEG audio file</td>\n",
       "    </tr>\n",
       "  </tbody>\n",
       "</table>\n",
       "</div>"
      ],
      "text/plain": [
       "   TrackId                                    Piste Genre  \\\n",
       "0        1  For Those About To Rock (We Salute You)  Rock   \n",
       "1        6                    Put The Finger On You  Rock   \n",
       "2        7                          Let's Get It Up  Rock   \n",
       "3        8                         Inject The Venom  Rock   \n",
       "4        9                               Snowballed  Rock   \n",
       "\n",
       "                                   ALBUM  \\\n",
       "0  For Those About To Rock We Salute You   \n",
       "1  For Those About To Rock We Salute You   \n",
       "2  For Those About To Rock We Salute You   \n",
       "3  For Those About To Rock We Salute You   \n",
       "4  For Those About To Rock We Salute You   \n",
       "\n",
       "                                 Compositeur Artiste  Durée en secondes  \\\n",
       "0  Angus Young, Malcolm Young, Brian Johnson   AC/DC                343   \n",
       "1  Angus Young, Malcolm Young, Brian Johnson   AC/DC                205   \n",
       "2  Angus Young, Malcolm Young, Brian Johnson   AC/DC                233   \n",
       "3  Angus Young, Malcolm Young, Brian Johnson   AC/DC                210   \n",
       "4  Angus Young, Malcolm Young, Brian Johnson   AC/DC                203   \n",
       "\n",
       "              Type  \n",
       "0  MPEG audio file  \n",
       "1  MPEG audio file  \n",
       "2  MPEG audio file  \n",
       "3  MPEG audio file  \n",
       "4  MPEG audio file  "
      ]
     },
     "execution_count": 24,
     "metadata": {},
     "output_type": "execute_result"
    }
   ],
   "source": [
    "requete = \"\"\"SELECT *\n",
    "from info_pistes \n",
    "where Artiste = 'AC/DC'\"\"\"\n",
    "\n",
    "pistes = pd.read_sql_query(requete, conn)\n",
    "pistes.head(5)"
   ]
  },
  {
   "cell_type": "code",
   "execution_count": 25,
   "metadata": {},
   "outputs": [
    {
     "data": {
      "text/plain": [
       "18"
      ]
     },
     "execution_count": 25,
     "metadata": {},
     "output_type": "execute_result"
    }
   ],
   "source": [
    "len(pistes)"
   ]
  },
  {
   "cell_type": "code",
   "execution_count": 26,
   "metadata": {},
   "outputs": [],
   "source": [
    "executer_requete(\"DROP VIEW IF EXISTS info_pistes;\", conn)"
   ]
  },
  {
   "cell_type": "markdown",
   "metadata": {},
   "source": [
    "### Vue 3: Vue augmentée invoices\n",
    "A. Créer une nouvelle vue v_invoices à partir de la table invoices ajoutant 3 nouveaux attributs basés sur l'attribut `InvoiceDate`:  \n",
    "- semaine de la transaction\n",
    "- mois de la transaction\n",
    "- année de la transaction"
   ]
  },
  {
   "cell_type": "code",
   "execution_count": 27,
   "metadata": {},
   "outputs": [],
   "source": [
    "creation_vue_dates = \"\"\"CREATE VIEW info_dates AS\n",
    "SELECT i.InvoiceId, SUBSTR(i.InvoiceDate , 0, 5) AS 'Année', SUBSTR(i.InvoiceDate, 6, 2) AS 'Month', strftime('%W', i.InvoiceDate) AS 'Week'\n",
    "FROM invoices i \n",
    "group by i.InvoiceId\"\"\"\n",
    "\n",
    "executer_requete(creation_vue_dates, conn)"
   ]
  },
  {
   "cell_type": "code",
   "execution_count": 28,
   "metadata": {},
   "outputs": [
    {
     "data": {
      "text/html": [
       "<div>\n",
       "<style scoped>\n",
       "    .dataframe tbody tr th:only-of-type {\n",
       "        vertical-align: middle;\n",
       "    }\n",
       "\n",
       "    .dataframe tbody tr th {\n",
       "        vertical-align: top;\n",
       "    }\n",
       "\n",
       "    .dataframe thead th {\n",
       "        text-align: right;\n",
       "    }\n",
       "</style>\n",
       "<table border=\"1\" class=\"dataframe\">\n",
       "  <thead>\n",
       "    <tr style=\"text-align: right;\">\n",
       "      <th></th>\n",
       "      <th>InvoiceId</th>\n",
       "      <th>Année</th>\n",
       "      <th>Month</th>\n",
       "      <th>Week</th>\n",
       "    </tr>\n",
       "  </thead>\n",
       "  <tbody>\n",
       "    <tr>\n",
       "      <th>0</th>\n",
       "      <td>14</td>\n",
       "      <td>2009</td>\n",
       "      <td>03</td>\n",
       "      <td>09</td>\n",
       "    </tr>\n",
       "    <tr>\n",
       "      <th>1</th>\n",
       "      <td>15</td>\n",
       "      <td>2009</td>\n",
       "      <td>03</td>\n",
       "      <td>09</td>\n",
       "    </tr>\n",
       "    <tr>\n",
       "      <th>2</th>\n",
       "      <td>16</td>\n",
       "      <td>2009</td>\n",
       "      <td>03</td>\n",
       "      <td>09</td>\n",
       "    </tr>\n",
       "    <tr>\n",
       "      <th>3</th>\n",
       "      <td>17</td>\n",
       "      <td>2009</td>\n",
       "      <td>03</td>\n",
       "      <td>09</td>\n",
       "    </tr>\n",
       "    <tr>\n",
       "      <th>4</th>\n",
       "      <td>18</td>\n",
       "      <td>2009</td>\n",
       "      <td>03</td>\n",
       "      <td>10</td>\n",
       "    </tr>\n",
       "  </tbody>\n",
       "</table>\n",
       "</div>"
      ],
      "text/plain": [
       "   InvoiceId Année Month Week\n",
       "0         14  2009    03   09\n",
       "1         15  2009    03   09\n",
       "2         16  2009    03   09\n",
       "3         17  2009    03   09\n",
       "4         18  2009    03   10"
      ]
     },
     "execution_count": 28,
     "metadata": {},
     "output_type": "execute_result"
    }
   ],
   "source": [
    "requete = \"\"\"SELECT InvoiceID, Année, Month, Week\n",
    "FROM info_dates \n",
    "WHERE Week BETWEEN  '09' AND  '25'\"\"\"\n",
    "\n",
    "i_date = pd.read_sql_query(requete, conn)\n",
    "i_date.head(5)"
   ]
  },
  {
   "cell_type": "code",
   "execution_count": 29,
   "metadata": {},
   "outputs": [
    {
     "data": {
      "text/plain": [
       "130"
      ]
     },
     "execution_count": 29,
     "metadata": {},
     "output_type": "execute_result"
    }
   ],
   "source": [
    "len(i_date)"
   ]
  },
  {
   "cell_type": "markdown",
   "metadata": {},
   "source": [
    "B. Exploiter la vue v_invoices ainsi crée pour déterminer les ventes annuelles par pays."
   ]
  },
  {
   "cell_type": "code",
   "execution_count": 30,
   "metadata": {},
   "outputs": [
    {
     "data": {
      "text/html": [
       "<div>\n",
       "<style scoped>\n",
       "    .dataframe tbody tr th:only-of-type {\n",
       "        vertical-align: middle;\n",
       "    }\n",
       "\n",
       "    .dataframe tbody tr th {\n",
       "        vertical-align: top;\n",
       "    }\n",
       "\n",
       "    .dataframe thead th {\n",
       "        text-align: right;\n",
       "    }\n",
       "</style>\n",
       "<table border=\"1\" class=\"dataframe\">\n",
       "  <thead>\n",
       "    <tr style=\"text-align: right;\">\n",
       "      <th></th>\n",
       "      <th>Année</th>\n",
       "      <th>BillingCountry</th>\n",
       "      <th>Income</th>\n",
       "    </tr>\n",
       "  </thead>\n",
       "  <tbody>\n",
       "    <tr>\n",
       "      <th>0</th>\n",
       "      <td>2013</td>\n",
       "      <td>Argentina</td>\n",
       "      <td>24.75</td>\n",
       "    </tr>\n",
       "    <tr>\n",
       "      <th>1</th>\n",
       "      <td>2013</td>\n",
       "      <td>Austria</td>\n",
       "      <td>0.99</td>\n",
       "    </tr>\n",
       "    <tr>\n",
       "      <th>2</th>\n",
       "      <td>2013</td>\n",
       "      <td>Belgium</td>\n",
       "      <td>5.94</td>\n",
       "    </tr>\n",
       "    <tr>\n",
       "      <th>3</th>\n",
       "      <td>2013</td>\n",
       "      <td>Brazil</td>\n",
       "      <td>37.62</td>\n",
       "    </tr>\n",
       "    <tr>\n",
       "      <th>4</th>\n",
       "      <td>2013</td>\n",
       "      <td>Canada</td>\n",
       "      <td>72.27</td>\n",
       "    </tr>\n",
       "    <tr>\n",
       "      <th>5</th>\n",
       "      <td>2013</td>\n",
       "      <td>Czech Republic</td>\n",
       "      <td>24.75</td>\n",
       "    </tr>\n",
       "    <tr>\n",
       "      <th>6</th>\n",
       "      <td>2013</td>\n",
       "      <td>Denmark</td>\n",
       "      <td>8.91</td>\n",
       "    </tr>\n",
       "    <tr>\n",
       "      <th>7</th>\n",
       "      <td>2013</td>\n",
       "      <td>Finland</td>\n",
       "      <td>15.84</td>\n",
       "    </tr>\n",
       "    <tr>\n",
       "      <th>8</th>\n",
       "      <td>2013</td>\n",
       "      <td>France</td>\n",
       "      <td>40.59</td>\n",
       "    </tr>\n",
       "    <tr>\n",
       "      <th>9</th>\n",
       "      <td>2013</td>\n",
       "      <td>Germany</td>\n",
       "      <td>9.90</td>\n",
       "    </tr>\n",
       "  </tbody>\n",
       "</table>\n",
       "</div>"
      ],
      "text/plain": [
       "  Année  BillingCountry  Income\n",
       "0  2013       Argentina   24.75\n",
       "1  2013         Austria    0.99\n",
       "2  2013         Belgium    5.94\n",
       "3  2013          Brazil   37.62\n",
       "4  2013          Canada   72.27\n",
       "5  2013  Czech Republic   24.75\n",
       "6  2013         Denmark    8.91\n",
       "7  2013         Finland   15.84\n",
       "8  2013          France   40.59\n",
       "9  2013         Germany    9.90"
      ]
     },
     "execution_count": 30,
     "metadata": {},
     "output_type": "execute_result"
    }
   ],
   "source": [
    "requete = \"\"\"SELECT DISTINCT(id.Année), i.BillingCountry, ii.UnitPrice * COUNT(i.BillingCountry) AS 'Income' \n",
    "FROM invoices i\n",
    "LEFT JOIN info_dates id ON i.InvoiceId = id.InvoiceId \n",
    "LEFT JOIN invoice_items ii ON i.InvoiceId = ii.InvoiceId \n",
    "GROUP BY i.BillingCountry, Année\n",
    "ORDER BY Année DESC \"\"\"\n",
    "\n",
    "i_billing = pd.read_sql_query(requete, conn)\n",
    "i_billing.head(10)"
   ]
  },
  {
   "cell_type": "code",
   "execution_count": 31,
   "metadata": {},
   "outputs": [
    {
     "data": {
      "text/plain": [
       "101"
      ]
     },
     "execution_count": 31,
     "metadata": {},
     "output_type": "execute_result"
    }
   ],
   "source": [
    "len(i_billing)"
   ]
  },
  {
   "cell_type": "code",
   "execution_count": 32,
   "metadata": {},
   "outputs": [],
   "source": [
    "executer_requete(\"DROP VIEW IF EXISTS info_dates;\", conn)"
   ]
  },
  {
   "cell_type": "markdown",
   "metadata": {},
   "source": [
    "### Vue 4: A vous de jouer\n",
    "Créer et exploiter une nouvelle vue de votre choix  "
   ]
  },
  {
   "cell_type": "code",
   "execution_count": 33,
   "metadata": {},
   "outputs": [
    {
     "name": "stdout",
     "output_type": "stream",
     "text": [
      "Erreur lors de l'execution de la requête\n",
      "table info_Country already exists\n"
     ]
    }
   ],
   "source": [
    "# création d'une vue qui recense le pays des employés\n",
    "creation_vue_country = \"\"\"\n",
    "CREATE VIEW info_Country AS\n",
    "SELECT e.City ,e.State ,e.Country \n",
    "FROM employees e ;\n",
    "\"\"\"\n",
    "# lancement de la fonction qui me permet d'exécuter la requete\n",
    "executer_requete(creation_vue_country, conn)"
   ]
  },
  {
   "cell_type": "code",
   "execution_count": 34,
   "metadata": {},
   "outputs": [
    {
     "data": {
      "text/html": [
       "<div>\n",
       "<style scoped>\n",
       "    .dataframe tbody tr th:only-of-type {\n",
       "        vertical-align: middle;\n",
       "    }\n",
       "\n",
       "    .dataframe tbody tr th {\n",
       "        vertical-align: top;\n",
       "    }\n",
       "\n",
       "    .dataframe thead th {\n",
       "        text-align: right;\n",
       "    }\n",
       "</style>\n",
       "<table border=\"1\" class=\"dataframe\">\n",
       "  <thead>\n",
       "    <tr style=\"text-align: right;\">\n",
       "      <th></th>\n",
       "      <th>Country</th>\n",
       "    </tr>\n",
       "  </thead>\n",
       "  <tbody>\n",
       "    <tr>\n",
       "      <th>0</th>\n",
       "      <td>Argentina</td>\n",
       "    </tr>\n",
       "    <tr>\n",
       "      <th>1</th>\n",
       "      <td>Australia</td>\n",
       "    </tr>\n",
       "    <tr>\n",
       "      <th>2</th>\n",
       "      <td>Austria</td>\n",
       "    </tr>\n",
       "    <tr>\n",
       "      <th>3</th>\n",
       "      <td>Belgium</td>\n",
       "    </tr>\n",
       "    <tr>\n",
       "      <th>4</th>\n",
       "      <td>Brazil</td>\n",
       "    </tr>\n",
       "    <tr>\n",
       "      <th>5</th>\n",
       "      <td>Chile</td>\n",
       "    </tr>\n",
       "    <tr>\n",
       "      <th>6</th>\n",
       "      <td>Czech Republic</td>\n",
       "    </tr>\n",
       "    <tr>\n",
       "      <th>7</th>\n",
       "      <td>Denmark</td>\n",
       "    </tr>\n",
       "    <tr>\n",
       "      <th>8</th>\n",
       "      <td>Finland</td>\n",
       "    </tr>\n",
       "    <tr>\n",
       "      <th>9</th>\n",
       "      <td>France</td>\n",
       "    </tr>\n",
       "    <tr>\n",
       "      <th>10</th>\n",
       "      <td>Germany</td>\n",
       "    </tr>\n",
       "    <tr>\n",
       "      <th>11</th>\n",
       "      <td>Hungary</td>\n",
       "    </tr>\n",
       "    <tr>\n",
       "      <th>12</th>\n",
       "      <td>India</td>\n",
       "    </tr>\n",
       "    <tr>\n",
       "      <th>13</th>\n",
       "      <td>Ireland</td>\n",
       "    </tr>\n",
       "    <tr>\n",
       "      <th>14</th>\n",
       "      <td>Italy</td>\n",
       "    </tr>\n",
       "    <tr>\n",
       "      <th>15</th>\n",
       "      <td>Netherlands</td>\n",
       "    </tr>\n",
       "    <tr>\n",
       "      <th>16</th>\n",
       "      <td>Norway</td>\n",
       "    </tr>\n",
       "    <tr>\n",
       "      <th>17</th>\n",
       "      <td>Poland</td>\n",
       "    </tr>\n",
       "    <tr>\n",
       "      <th>18</th>\n",
       "      <td>Portugal</td>\n",
       "    </tr>\n",
       "    <tr>\n",
       "      <th>19</th>\n",
       "      <td>Spain</td>\n",
       "    </tr>\n",
       "  </tbody>\n",
       "</table>\n",
       "</div>"
      ],
      "text/plain": [
       "           Country\n",
       "0        Argentina\n",
       "1        Australia\n",
       "2          Austria\n",
       "3          Belgium\n",
       "4           Brazil\n",
       "5            Chile\n",
       "6   Czech Republic\n",
       "7          Denmark\n",
       "8          Finland\n",
       "9           France\n",
       "10         Germany\n",
       "11         Hungary\n",
       "12           India\n",
       "13         Ireland\n",
       "14           Italy\n",
       "15     Netherlands\n",
       "16          Norway\n",
       "17          Poland\n",
       "18        Portugal\n",
       "19           Spain"
      ]
     },
     "execution_count": 34,
     "metadata": {},
     "output_type": "execute_result"
    }
   ],
   "source": [
    "# requete pour définir quelles sont les pays des clients où les employés\n",
    "# n'y vivent pas (exportation)\n",
    "requete = \"\"\"SELECT c.Country\n",
    "FROM customers c\n",
    "left join info_Country ic\n",
    "WHERE c.Country NOT IN \n",
    "(SELECT ic.Country\n",
    "FROM info_Country )\n",
    "GROUP BY c.Country ;\"\"\"\n",
    "\n",
    "i_country = pd.read_sql_query(requete, conn)\n",
    "i_country.head(20)"
   ]
  },
  {
   "cell_type": "code",
   "execution_count": 35,
   "metadata": {},
   "outputs": [
    {
     "data": {
      "text/plain": [
       "23"
      ]
     },
     "execution_count": 35,
     "metadata": {},
     "output_type": "execute_result"
    }
   ],
   "source": [
    "len(i_country)"
   ]
  },
  {
   "cell_type": "code",
   "execution_count": 36,
   "metadata": {},
   "outputs": [],
   "source": [
    "executer_requete(\"DROP VIEW IF EXISTS info_Country;\", conn)"
   ]
  }
 ],
 "metadata": {
  "kernelspec": {
   "display_name": "Python 3",
   "language": "python",
   "name": "python3"
  },
  "language_info": {
   "codemirror_mode": {
    "name": "ipython",
    "version": 3
   },
   "file_extension": ".py",
   "mimetype": "text/x-python",
   "name": "python",
   "nbconvert_exporter": "python",
   "pygments_lexer": "ipython3",
   "version": "3.8.6"
  }
 },
 "nbformat": 4,
 "nbformat_minor": 4
}
